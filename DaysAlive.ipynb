{
 "cells": [
  {
   "cell_type": "code",
   "execution_count": 1,
   "metadata": {},
   "outputs": [],
   "source": [
    "from datetime import *"
   ]
  },
  {
   "cell_type": "code",
   "execution_count": 2,
   "metadata": {},
   "outputs": [],
   "source": [
    "def main():\n",
    "    todayDate = date.today()\n",
    "    birthDate = getDate()\n",
    "    days_alive = (todayDate - birthDate).days\n",
    "    hours = days_alive * 24\n",
    "    minutes = hours * 60\n",
    "    seconds = minutes * 60\n",
    "    message = '''\n",
    "    You have been alive for {0:,} days,\n",
    "    which is {1:,} hours\n",
    "    which is {2:,} minutes\n",
    "    which is {3:,} seconds'''.format(days_alive,hours,minutes,seconds)\n",
    "    print(message)"
   ]
  },
  {
   "cell_type": "code",
   "execution_count": 3,
   "metadata": {},
   "outputs": [],
   "source": [
    "def getDate():\n",
    "    date1 = input(\"Enter your birthday in mm/dd/yyyy form \\n\")\n",
    "    birthDate = datetime.strptime(date1,\"%m/%d/%Y\").date()\n",
    "    return birthDate"
   ]
  },
  {
   "cell_type": "code",
   "execution_count": 4,
   "metadata": {},
   "outputs": [
    {
     "name": "stdout",
     "output_type": "stream",
     "text": [
      "Enter your birthday in mm/dd/yyyy form \n",
      "03/19/1956\n",
      "\n",
      "    You have been alive for 23,306 days,\n",
      "    which is 559,344 hours\n",
      "    which is 33,560,640 minutes\n",
      "    which is 2,013,638,400 seconds\n"
     ]
    }
   ],
   "source": [
    "main()"
   ]
  },
  {
   "cell_type": "code",
   "execution_count": null,
   "metadata": {},
   "outputs": [],
   "source": []
  }
 ],
 "metadata": {
  "kernelspec": {
   "display_name": "Python 3",
   "language": "python",
   "name": "python3"
  },
  "language_info": {
   "codemirror_mode": {
    "name": "ipython",
    "version": 3
   },
   "file_extension": ".py",
   "mimetype": "text/x-python",
   "name": "python",
   "nbconvert_exporter": "python",
   "pygments_lexer": "ipython3",
   "version": "3.7.6"
  }
 },
 "nbformat": 4,
 "nbformat_minor": 4
}
